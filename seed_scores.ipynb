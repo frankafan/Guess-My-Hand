{
 "cells": [
  {
   "cell_type": "code",
   "execution_count": null,
   "metadata": {},
   "outputs": [],
   "source": [
    "import pandas as pd\n",
    "\n",
    "df = pd.read_csv(\"seed_scores.csv\")\n",
    "df.columns = [\"Player\", \"Turn\", \"Score\"]\n",
    "df.head()"
   ]
  },
  {
   "cell_type": "code",
   "execution_count": null,
   "metadata": {},
   "outputs": [],
   "source": [
    "average_scores = df.groupby([\"Player\", \"Turn\"])[\"Score\"].mean()\n",
    "average_scores"
   ]
  },
  {
   "cell_type": "code",
   "execution_count": null,
   "metadata": {},
   "outputs": [],
   "source": [
    "import matplotlib.pyplot as plt\n",
    "\n",
    "# Calculate the average score for each player at each turn\n",
    "avg_scores = df.groupby([\"Player\", \"Turn\"]).mean().reset_index()\n",
    "\n",
    "# Plotting the average scores for each player over different turns\n",
    "plt.figure(figsize=(10, 6))\n",
    "\n",
    "# Grouping by player and plotting each player's average score progression\n",
    "for player, data in avg_scores.groupby(\"Player\"):\n",
    "    plt.plot(data[\"Turn\"], data[\"Score\"], marker=\"o\", label=player)\n",
    "\n",
    "plt.title(\"Average Player Scores Over Different Turns\")\n",
    "plt.xlabel(\"Turn\")\n",
    "plt.ylabel(\"Average Score\")\n",
    "plt.legend(title=\"Player\")\n",
    "plt.grid(True)\n",
    "\n",
    "# Show the plot\n",
    "plt.show()"
   ]
  }
 ],
 "metadata": {
  "kernelspec": {
   "display_name": "Python 3",
   "language": "python",
   "name": "python3"
  },
  "language_info": {
   "codemirror_mode": {
    "name": "ipython",
    "version": 3
   },
   "file_extension": ".py",
   "mimetype": "text/x-python",
   "name": "python",
   "nbconvert_exporter": "python",
   "pygments_lexer": "ipython3",
   "version": "3.11.9"
  }
 },
 "nbformat": 4,
 "nbformat_minor": 2
}
